{
 "cells": [
  {
   "cell_type": "code",
   "execution_count": 1,
   "id": "c4876266",
   "metadata": {},
   "outputs": [],
   "source": [
    "import pandas as pd\n",
    "import matplotlib.pyplot as plt\n",
    "import numpy\n",
    "from openpyxl import Workbook\n",
    "from openpyxl import load_workbook\n",
    "import math"
   ]
  },
  {
   "cell_type": "code",
   "execution_count": 4,
   "id": "6b5dee29",
   "metadata": {},
   "outputs": [
    {
     "name": "stdout",
     "output_type": "stream",
     "text": [
      "Aprobados:\n",
      "Reto artístico diario 71%\n",
      "Igualito Disney (5to - 7mo) 64%\n",
      "Baile improvisado 63%\n",
      "Barras 72%\n",
      "Yincana (covid version) 67%\n",
      "Doctora Polo 73%\n",
      "Show talentos 73%\n",
      "Desfile de moda (reciclado) 70%\n",
      "Torneo FIFA 76%\n",
      "Torneo Rocket League 72%\n",
      "Pasapalabra 85%\n",
      "Ping pong 86%\n",
      "Torneo Brawl Stars 53%\n",
      "Catán 64%\n",
      "Ajedréz 78%\n",
      "Pintar mascarillas con la temática de la alianza 71%\n",
      "Reprobados:\n",
      "Zumba (por ciclos) 40%\n",
      "El que se la sabe cante (vía zoom) 43%\n",
      "188\n"
     ]
    }
   ],
   "source": [
    "data = pd.read_excel(\"RespuestasEncuestaAlianzas.xlsx\", sheet_name=\"Respuestas de formulario 1\")\n",
    "data.drop(columns=['Marca temporal'])\n",
    "data = data.drop(columns=['Marca temporal', \"Dirección de correo electrónico\", \"Correo\", \"Curso\"])\n",
    "\n",
    "freq = {\n",
    "    'Reto artístico diario': 0,\n",
    "    'Igualito Disney (5to - 7mo)': 0,\n",
    "    'Baile improvisado': 0,\n",
    "    'Barras': 0,\n",
    "    'Yincana (covid version)': 0,\n",
    "    'Doctora Polo': 0,\n",
    "    'Show talentos': 0,\n",
    "    'Zumba (por ciclos)': 0,\n",
    "    'El que se la sabe cante (vía zoom)': 0,\n",
    "    'Desfile de moda (reciclado)': 0,\n",
    "    'Torneo FIFA':0,\n",
    "    'Torneo Rocket League': 0,\n",
    "    'Pasapalabra': 0,\n",
    "    'Ping pong': 0,\n",
    "    'Torneo Brawl Stars': 0,\n",
    "    'Catán': 0,\n",
    "    'Ajedréz': 0,\n",
    "    'Pintar mascarillas con la temática de la alianza': 0    \n",
    "}\n",
    "\n",
    "cantidadRespuestas= data.shape[0] -1\n",
    "\n",
    "for key in freq.keys():\n",
    "    for res in data[key]:\n",
    "        if res != \"No\":\n",
    "            freq[key]+=1\n",
    "        \n",
    "for key in freq.keys():\n",
    "   freq[key]= math.ceil((freq[key]/cantidadRespuestas)*100)\n",
    "\n",
    "print(\"Aprobados:\")\n",
    "for key in freq.keys():\n",
    "   if freq[key]>50:\n",
    "    print(key+\" \"+ str(freq[key])+\"%\")\n",
    "print(\"Reprobados:\")\n",
    "\n",
    "for key in freq.keys():\n",
    "   if freq[key]<=50:\n",
    "    print(key+\" \"+ str(freq[key])+\"%\")\n",
    "    \n"
   ]
  },
  {
   "cell_type": "code",
   "execution_count": 16,
   "id": "8d6564bb",
   "metadata": {},
   "outputs": [
    {
     "name": "stdout",
     "output_type": "stream",
     "text": [
      "{'lol': 15, 'minecraft': 7, 'solidaria': 2, 'futbol': 11, 'fortnite': 5, 'imposibles': 9, 'tesoro': 4}\n"
     ]
    },
    {
     "data": {
      "text/plain": [
       "<BarContainer object of 7 artists>"
      ]
     },
     "execution_count": 16,
     "metadata": {},
     "output_type": "execute_result"
    },
    {
     "data": {
      "image/png": "[encoded data removed]",
      "text/plain": [
       "<Figure size 432x288 with 1 Axes>"
      ]
     },
     "metadata": {
      "needs_background": "light"
     },
     "output_type": "display_data"
    }
   ],
   "source": [
    "respuestas = []\n",
    "\n",
    "for i in data[\"Actividad 1\"]:\n",
    "    j = str(i)\n",
    "    if j!=\"nan\":\n",
    "        respuestas.append(j.lower())\n",
    "    \n",
    " \n",
    "for i in data[\"Actividad 2\"]:\n",
    "    j = str(i)\n",
    "    if j!=\"nan\":\n",
    "        respuestas.append(j.lower())\n",
    "        \n",
    "\n",
    "for i in data[\"Actividad 3\"]:\n",
    "    j = str(i)\n",
    "    if j!=\"nan\":\n",
    "        respuestas.append(j.lower())\n",
    "#print(respuestas)\n",
    "\n",
    "count = 0\n",
    "for i in respuestas:\n",
    "    if \"lol\" in i:\n",
    "        count +=1\n",
    "\n",
    "        \n",
    "trending ={\n",
    "    \"lol\":0,\n",
    "    \"minecraft\":0,\n",
    "    \"futbol\":0,\n",
    "    \"fortnite\":0,\n",
    "    \"futbol\":0,\n",
    "    \"imposibles\":0,\n",
    "    \"tesoro\":0   \n",
    "}        \n",
    "llaves = trending.keys()\n",
    "\n",
    "\n",
    "for i in respuestas:\n",
    "    if \"lol\" in i or \"legend\" in i:\n",
    "        trending[\"lol\"]+=1\n",
    "    if \"minecr\" in i or \"skyw\" in i:\n",
    "        trending[\"minecraft\"]+=1\n",
    "  \n",
    "    if \"fort\" in i:\n",
    "        trending[\"fortnite\"]+=1\n",
    "    \n",
    "    if \"futb\" in i or \"fútb\" in i:\n",
    "        trending[\"futbol\"]+=1\n",
    "    if \"misio\" in i or \"imposi\" in i:\n",
    "        trending[\"imposibles\"] +=1\n",
    "    \n",
    "    if \"tesoro\" in i:\n",
    "        trending [\"tesoro\"]+=1\n",
    "    \n",
    "\n",
    "        \n",
    "print(trending)\n",
    "\n",
    "datos = [trending[key] for key in trending.keys()]\n",
    "\n",
    "#fig1, ax1 = plt.subplots()\n",
    "\n",
    "\n",
    "\n",
    "plt.bar(height = datos, x=trending.keys(),color=['black', 'red', 'green', 'blue', 'cyan',\"yellow\",\"orange\"])\n",
    "\n",
    "\n"
   ]
  }
 ],
 "metadata": {
  "kernelspec": {
   "display_name": "Python 3 (ipykernel)",
   "language": "python",
   "name": "python3"
  },
  "language_info": {
   "codemirror_mode": {
    "name": "ipython",
    "version": 3
   },
   "file_extension": ".py",
   "mimetype": "text/x-python",
   "name": "python",
   "nbconvert_exporter": "python",
   "pygments_lexer": "ipython3",
   "version": "3.9.7"
  }
 },
 "nbformat": 4,
 "nbformat_minor": 5
}
